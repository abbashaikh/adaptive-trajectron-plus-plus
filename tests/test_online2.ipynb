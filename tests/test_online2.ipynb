{
 "cells": [
  {
   "cell_type": "code",
   "execution_count": 1,
   "metadata": {},
   "outputs": [],
   "source": [
    "\n",
    "import os\n",
    "import time\n",
    "import json\n",
    "import random\n",
    "import pathlib\n",
    "from collections import defaultdict\n",
    "from typing import Dict, List, Tuple\n",
    "from tqdm import tqdm\n",
    "\n",
    "import numpy as np\n",
    "from tqdm import trange\n",
    "import torch\n",
    "from torch.utils.data import DataLoader\n",
    "import matplotlib.pyplot as plt\n",
    "\n",
    "from trajdata import AgentBatch, AgentType, UnifiedDataset, SceneBatch\n",
    "from trajdata.utils.batch_utils import SceneTimeBatcher\n",
    "from trajdata.data_structures.scene_metadata import Scene as trajdata_Scene\n",
    "from trajdata.data_structures.state import StateArray, StateTensor\n",
    "from trajdata.simulation import SimulationScene, sim_metrics, sim_stats, sim_vis\n",
    "from trajdata.visualization.vis import plot_agent_batch\n",
    "\n",
    "import trajectron.evaluation as evaluation\n",
    "import trajectron.visualization as vis\n",
    "# from trajectron.argument_parser import args\n",
    "from trajectron.model.online.online_trajectron import OnlineTrajectron\n",
    "from trajectron.model.model_registrar import ModelRegistrar\n",
    "from trajectron.environment import Environment, Scene, Node, DoubleHeaderNumpyArray, SceneGraph"
   ]
  },
  {
   "cell_type": "code",
   "execution_count": 2,
   "metadata": {},
   "outputs": [],
   "source": [
    "arg_device = None\n",
    "arg_seed = None\n",
    "\n",
    "if not torch.cuda.is_available() or arg_device == 'cpu':\n",
    "    arg_device = torch.device('cpu')\n",
    "else:\n",
    "    if torch.cuda.device_count() == 1:\n",
    "        # If you have CUDA_VISIBLE_DEVICES set, which you should,\n",
    "        # then this will prevent leftover flag arguments from\n",
    "        # messing with the device allocation.\n",
    "        arg_device = 'cuda:0'\n",
    "\n",
    "    arg_device = torch.device(arg_device)\n",
    "\n",
    "if arg_device is None:\n",
    "    arg_device = 'cpu'\n",
    "\n",
    "if arg_seed is not None:\n",
    "    random.seed(arg_seed)\n",
    "    np.random.seed(arg_seed)\n",
    "    torch.manual_seed(arg_seed)\n",
    "    if torch.cuda.is_available():\n",
    "        torch.cuda.manual_seed_all(arg_seed)"
   ]
  },
  {
   "cell_type": "code",
   "execution_count": 3,
   "metadata": {},
   "outputs": [],
   "source": [
    "log_dir = '/home/abbas/Projects/trajectron/adaptive-trajectron-plus-plus/experiments/pedestrians/kf_models'\n",
    "model_dir = os.path.join(log_dir, 'eth_1mode_base_tpp-20_Jan_2023_17_38_09')\n",
    "\n",
    "# Load hyperparameters from json\n",
    "conf = 'config.json'\n",
    "config_file = os.path.join(model_dir, conf)\n",
    "if not os.path.exists(config_file):\n",
    "    raise ValueError('Config json not found!')\n",
    "with open(config_file, 'r') as conf_json:\n",
    "    hyperparams = json.load(conf_json)\n",
    "\n",
    "output_save_dir = os.path.join(model_dir, 'pred_figs')\n",
    "pathlib.Path(output_save_dir).mkdir(parents=True, exist_ok=True)"
   ]
  },
  {
   "cell_type": "code",
   "execution_count": 4,
   "metadata": {},
   "outputs": [
    {
     "name": "stdout",
     "output_type": "stream",
     "text": [
      "Loading data for matched scene tags: ['eupeds_eth-zurich-train', 'eupeds_eth-cyprus-train']\n"
     ]
    },
    {
     "name": "stderr",
     "output_type": "stream",
     "text": [
      "Getting Scenes from eupeds_eth: 100%|██████████| 2/2 [00:00<00:00, 1752.37it/s]\n",
      "Calculating Agent Data (Serially): 100%|██████████| 1/1 [00:00<00:00, 5295.84it/s]"
     ]
    },
    {
     "name": "stdout",
     "output_type": "stream",
     "text": [
      "1 scenes in the scene index.\n"
     ]
    },
    {
     "name": "stderr",
     "output_type": "stream",
     "text": [
      "\n",
      "Creating Agent Data Index (8 CPUs): 100%|██████████| 1/1 [00:00<00:00, 122.40it/s]\n",
      "Structuring Agent Data Index: 100%|██████████| 1/1 [00:00<00:00, 582.79it/s]\n"
     ]
    }
   ],
   "source": [
    "\n",
    "# Load evaluation environments and scenes\n",
    "attention_radius = defaultdict(\n",
    "    lambda: 20.0\n",
    ")  # Default range is 20m unless otherwise specified.\n",
    "attention_radius[(AgentType.PEDESTRIAN, AgentType.PEDESTRIAN)] = 10.0\n",
    "attention_radius[(AgentType.PEDESTRIAN, AgentType.VEHICLE)] = 20.0\n",
    "attention_radius[(AgentType.VEHICLE, AgentType.PEDESTRIAN)] = 20.0\n",
    "attention_radius[(AgentType.VEHICLE, AgentType.VEHICLE)] = 30.0\n",
    "\n",
    "dataset = UnifiedDataset(\n",
    "    # desired_data=[\"eupeds_eth-test_loo\"],\n",
    "    desired_data=[\"eupeds_eth-train\"],\n",
    "    centric =\"agent\",\n",
    "    history_sec=(hyperparams[\"history_sec\"], hyperparams[\"history_sec\"]),\n",
    "    future_sec=(hyperparams[\"prediction_sec\"], hyperparams[\"prediction_sec\"]),\n",
    "    agent_interaction_distances=attention_radius,\n",
    "    incl_robot_future=hyperparams[\"incl_robot_node\"],\n",
    "    incl_raster_map=hyperparams[\"map_encoding\"],\n",
    "    only_predict=[AgentType.PEDESTRIAN],\n",
    "    no_types=[AgentType.UNKNOWN],\n",
    "    num_workers=hyperparams[\"preprocess_workers\"],\n",
    "    cache_location=hyperparams[\"trajdata_cache_dir\"],\n",
    "    standardize_data=True,\n",
    "    data_dirs={  # Remember to change this to match your filesystem!\n",
    "        \"eupeds_eth\": \"/home/abbas/Projects/trajectron/datasets/eth_ucy\",\n",
    "    },\n",
    "    verbose=True,\n",
    ")"
   ]
  },
  {
   "cell_type": "code",
   "execution_count": 5,
   "metadata": {},
   "outputs": [],
   "source": [
    "# Creating a dummy environment with a single scene that contains information about the world.\n",
    "# When using this code, feel free to use whichever scene index or initial timestep you wish.\n",
    "scene_idx = 0\n",
    "\n",
    "# You need to have at least acceleration, so you want 2 timesteps of prior data, e.g. [0, 1],\n",
    "# so that you can immediately start incremental inference from the 3rd timestep onwards.\n",
    "init_timestep = 1"
   ]
  },
  {
   "cell_type": "code",
   "execution_count": 6,
   "metadata": {},
   "outputs": [],
   "source": [
    "# initialize the desired scene\n",
    "\n",
    "sim_env_name = \"eupeds_eth\"\n",
    "scene_name = \"biwi_eth-test_loo\"\n",
    "desired_scene: trajdata_Scene = dataset.get_scene(scene_idx)\n",
    "\n",
    "sim_scene: SimulationScene = SimulationScene(\n",
    "            env_name=sim_env_name,\n",
    "            scene_name=scene_name,\n",
    "            scene=desired_scene,\n",
    "            dataset=dataset,\n",
    "            init_timestep=init_timestep,\n",
    "            freeze_agents=True,\n",
    "            )\n",
    "# obs: AgentBatch = sim_scene.reset()\n",
    "\n",
    "# print(obs.agent_name)\n",
    "# print(obs.neigh_hist[2].shape)\n",
    "# # print(obs.neigh_hist_len[2, :obs.num_neigh[2]].unsqueeze(0))\n",
    "# a = obs.neigh_hist_len[2, :obs.num_neigh[2]].unsqueeze(0)\n",
    "# print(torch.max(a))\n",
    "# # print(obs.num_neigh[0].shape)\n",
    "# print(obs.neigh_types[1, :obs.num_neigh[1]].shape)\n"
   ]
  },
  {
   "cell_type": "code",
   "execution_count": 7,
   "metadata": {},
   "outputs": [],
   "source": [
    "# from itertools import product\n",
    "\n",
    "# hyperparams[\"pred_state\"]\n",
    "# agent_type = hyperparams[\"pred_state\"].keys()\n",
    "# print(agent_type)\n",
    "# print(desired_scene.agent_presence)\n",
    "# print(list(product(AgentType, repeat=2)))"
   ]
  },
  {
   "cell_type": "code",
   "execution_count": 8,
   "metadata": {},
   "outputs": [
    {
     "data": {
      "text/plain": [
       "_IncompatibleKeys(missing_keys=[], unexpected_keys=['node_models_dict.PEDESTRIAN.model_registrar.model_dict.PEDESTRIAN/node_history_encoder.weight_ih_l0', 'node_models_dict.PEDESTRIAN.model_registrar.model_dict.PEDESTRIAN/node_history_encoder.weight_hh_l0', 'node_models_dict.PEDESTRIAN.model_registrar.model_dict.PEDESTRIAN/node_history_encoder.bias_ih_l0', 'node_models_dict.PEDESTRIAN.model_registrar.model_dict.PEDESTRIAN/node_history_encoder.bias_hh_l0', 'node_models_dict.PEDESTRIAN.model_registrar.model_dict.PEDESTRIAN/node_future_encoder.weight_ih_l0', 'node_models_dict.PEDESTRIAN.model_registrar.model_dict.PEDESTRIAN/node_future_encoder.weight_hh_l0', 'node_models_dict.PEDESTRIAN.model_registrar.model_dict.PEDESTRIAN/node_future_encoder.bias_ih_l0', 'node_models_dict.PEDESTRIAN.model_registrar.model_dict.PEDESTRIAN/node_future_encoder.bias_hh_l0', 'node_models_dict.PEDESTRIAN.model_registrar.model_dict.PEDESTRIAN/node_future_encoder.weight_ih_l0_reverse', 'node_models_dict.PEDESTRIAN.model_registrar.model_dict.PEDESTRIAN/node_future_encoder.weight_hh_l0_reverse', 'node_models_dict.PEDESTRIAN.model_registrar.model_dict.PEDESTRIAN/node_future_encoder.bias_ih_l0_reverse', 'node_models_dict.PEDESTRIAN.model_registrar.model_dict.PEDESTRIAN/node_future_encoder.bias_hh_l0_reverse', 'node_models_dict.PEDESTRIAN.model_registrar.model_dict.PEDESTRIAN/node_future_encoder/initial_h.weight', 'node_models_dict.PEDESTRIAN.model_registrar.model_dict.PEDESTRIAN/node_future_encoder/initial_h.bias', 'node_models_dict.PEDESTRIAN.model_registrar.model_dict.PEDESTRIAN/node_future_encoder/initial_c.weight', 'node_models_dict.PEDESTRIAN.model_registrar.model_dict.PEDESTRIAN/node_future_encoder/initial_c.bias', 'node_models_dict.PEDESTRIAN.model_registrar.model_dict.PEDESTRIAN/edge_influence_encoder.in_proj_weight', 'node_models_dict.PEDESTRIAN.model_registrar.model_dict.PEDESTRIAN/edge_influence_encoder.in_proj_bias', 'node_models_dict.PEDESTRIAN.model_registrar.model_dict.PEDESTRIAN/edge_influence_encoder.out_proj.weight', 'node_models_dict.PEDESTRIAN.model_registrar.model_dict.PEDESTRIAN/edge_influence_encoder.out_proj.bias', 'node_models_dict.PEDESTRIAN.model_registrar.model_dict.PEDESTRIAN/p_z_x.weight', 'node_models_dict.PEDESTRIAN.model_registrar.model_dict.PEDESTRIAN/p_z_x.bias', 'node_models_dict.PEDESTRIAN.model_registrar.model_dict.PEDESTRIAN/hx_to_z.weight', 'node_models_dict.PEDESTRIAN.model_registrar.model_dict.PEDESTRIAN/hx_to_z.bias', 'node_models_dict.PEDESTRIAN.model_registrar.model_dict.PEDESTRIAN/hxy_to_z.weight', 'node_models_dict.PEDESTRIAN.model_registrar.model_dict.PEDESTRIAN/hxy_to_z.bias', 'node_models_dict.PEDESTRIAN.model_registrar.model_dict.PEDESTRIAN/decoder/state_action.weight', 'node_models_dict.PEDESTRIAN.model_registrar.model_dict.PEDESTRIAN/decoder/state_action.bias', 'node_models_dict.PEDESTRIAN.model_registrar.model_dict.PEDESTRIAN/decoder/rnn.weight_ih_l0', 'node_models_dict.PEDESTRIAN.model_registrar.model_dict.PEDESTRIAN/decoder/rnn.weight_hh_l0', 'node_models_dict.PEDESTRIAN.model_registrar.model_dict.PEDESTRIAN/decoder/rnn.bias_ih_l0', 'node_models_dict.PEDESTRIAN.model_registrar.model_dict.PEDESTRIAN/decoder/rnn.bias_hh_l0', 'node_models_dict.PEDESTRIAN.model_registrar.model_dict.PEDESTRIAN/decoder/rnn_cell.weight_ih', 'node_models_dict.PEDESTRIAN.model_registrar.model_dict.PEDESTRIAN/decoder/rnn_cell.weight_hh', 'node_models_dict.PEDESTRIAN.model_registrar.model_dict.PEDESTRIAN/decoder/rnn_cell.bias_ih', 'node_models_dict.PEDESTRIAN.model_registrar.model_dict.PEDESTRIAN/decoder/rnn_cell.bias_hh', 'node_models_dict.PEDESTRIAN.model_registrar.model_dict.PEDESTRIAN/decoder/initial_h.weight', 'node_models_dict.PEDESTRIAN.model_registrar.model_dict.PEDESTRIAN/decoder/initial_h.bias', 'node_models_dict.PEDESTRIAN.model_registrar.model_dict.PEDESTRIAN/decoder/post_rnn.weight', 'node_models_dict.PEDESTRIAN.model_registrar.model_dict.PEDESTRIAN/decoder/post_rnn.bias', 'node_models_dict.PEDESTRIAN.model_registrar.model_dict.PEDESTRIAN/decoder/proj_to_GMM_log_pis.weight', 'node_models_dict.PEDESTRIAN.model_registrar.model_dict.PEDESTRIAN/decoder/proj_to_GMM_log_pis.bias', 'node_models_dict.PEDESTRIAN.model_registrar.model_dict.PEDESTRIAN/decoder/proj_to_GMM_mus.weight', 'node_models_dict.PEDESTRIAN.model_registrar.model_dict.PEDESTRIAN/decoder/proj_to_GMM_mus.bias', 'node_models_dict.PEDESTRIAN.model_registrar.model_dict.PEDESTRIAN/decoder/proj_to_GMM_log_sigmas.weight', 'node_models_dict.PEDESTRIAN.model_registrar.model_dict.PEDESTRIAN/decoder/proj_to_GMM_log_sigmas.bias', 'node_models_dict.PEDESTRIAN.model_registrar.model_dict.PEDESTRIAN/decoder/proj_to_GMM_corrs.weight', 'node_models_dict.PEDESTRIAN.model_registrar.model_dict.PEDESTRIAN/decoder/proj_to_GMM_corrs.bias', 'node_models_dict.PEDESTRIAN.model_registrar.model_dict.UNKNOWN->PEDESTRIAN/edge_encoder.weight_ih_l0', 'node_models_dict.PEDESTRIAN.model_registrar.model_dict.UNKNOWN->PEDESTRIAN/edge_encoder.weight_hh_l0', 'node_models_dict.PEDESTRIAN.model_registrar.model_dict.UNKNOWN->PEDESTRIAN/edge_encoder.bias_ih_l0', 'node_models_dict.PEDESTRIAN.model_registrar.model_dict.UNKNOWN->PEDESTRIAN/edge_encoder.bias_hh_l0', 'node_models_dict.PEDESTRIAN.model_registrar.model_dict.VEHICLE->PEDESTRIAN/edge_encoder.weight_ih_l0', 'node_models_dict.PEDESTRIAN.model_registrar.model_dict.VEHICLE->PEDESTRIAN/edge_encoder.weight_hh_l0', 'node_models_dict.PEDESTRIAN.model_registrar.model_dict.VEHICLE->PEDESTRIAN/edge_encoder.bias_ih_l0', 'node_models_dict.PEDESTRIAN.model_registrar.model_dict.VEHICLE->PEDESTRIAN/edge_encoder.bias_hh_l0', 'node_models_dict.PEDESTRIAN.model_registrar.model_dict.PEDESTRIAN->PEDESTRIAN/edge_encoder.weight_ih_l0', 'node_models_dict.PEDESTRIAN.model_registrar.model_dict.PEDESTRIAN->PEDESTRIAN/edge_encoder.weight_hh_l0', 'node_models_dict.PEDESTRIAN.model_registrar.model_dict.PEDESTRIAN->PEDESTRIAN/edge_encoder.bias_ih_l0', 'node_models_dict.PEDESTRIAN.model_registrar.model_dict.PEDESTRIAN->PEDESTRIAN/edge_encoder.bias_hh_l0', 'node_models_dict.PEDESTRIAN.model_registrar.model_dict.BICYCLE->PEDESTRIAN/edge_encoder.weight_ih_l0', 'node_models_dict.PEDESTRIAN.model_registrar.model_dict.BICYCLE->PEDESTRIAN/edge_encoder.weight_hh_l0', 'node_models_dict.PEDESTRIAN.model_registrar.model_dict.BICYCLE->PEDESTRIAN/edge_encoder.bias_ih_l0', 'node_models_dict.PEDESTRIAN.model_registrar.model_dict.BICYCLE->PEDESTRIAN/edge_encoder.bias_hh_l0', 'node_models_dict.PEDESTRIAN.model_registrar.model_dict.MOTORCYCLE->PEDESTRIAN/edge_encoder.weight_ih_l0', 'node_models_dict.PEDESTRIAN.model_registrar.model_dict.MOTORCYCLE->PEDESTRIAN/edge_encoder.weight_hh_l0', 'node_models_dict.PEDESTRIAN.model_registrar.model_dict.MOTORCYCLE->PEDESTRIAN/edge_encoder.bias_ih_l0', 'node_models_dict.PEDESTRIAN.model_registrar.model_dict.MOTORCYCLE->PEDESTRIAN/edge_encoder.bias_hh_l0', 'node_models_dict.PEDESTRIAN.node_modules.PEDESTRIAN/node_history_encoder.weight_ih_l0', 'node_models_dict.PEDESTRIAN.node_modules.PEDESTRIAN/node_history_encoder.weight_hh_l0', 'node_models_dict.PEDESTRIAN.node_modules.PEDESTRIAN/node_history_encoder.bias_ih_l0', 'node_models_dict.PEDESTRIAN.node_modules.PEDESTRIAN/node_history_encoder.bias_hh_l0', 'node_models_dict.PEDESTRIAN.node_modules.PEDESTRIAN/node_future_encoder.weight_ih_l0', 'node_models_dict.PEDESTRIAN.node_modules.PEDESTRIAN/node_future_encoder.weight_hh_l0', 'node_models_dict.PEDESTRIAN.node_modules.PEDESTRIAN/node_future_encoder.bias_ih_l0', 'node_models_dict.PEDESTRIAN.node_modules.PEDESTRIAN/node_future_encoder.bias_hh_l0', 'node_models_dict.PEDESTRIAN.node_modules.PEDESTRIAN/node_future_encoder.weight_ih_l0_reverse', 'node_models_dict.PEDESTRIAN.node_modules.PEDESTRIAN/node_future_encoder.weight_hh_l0_reverse', 'node_models_dict.PEDESTRIAN.node_modules.PEDESTRIAN/node_future_encoder.bias_ih_l0_reverse', 'node_models_dict.PEDESTRIAN.node_modules.PEDESTRIAN/node_future_encoder.bias_hh_l0_reverse', 'node_models_dict.PEDESTRIAN.node_modules.PEDESTRIAN/node_future_encoder/initial_h.weight', 'node_models_dict.PEDESTRIAN.node_modules.PEDESTRIAN/node_future_encoder/initial_h.bias', 'node_models_dict.PEDESTRIAN.node_modules.PEDESTRIAN/node_future_encoder/initial_c.weight', 'node_models_dict.PEDESTRIAN.node_modules.PEDESTRIAN/node_future_encoder/initial_c.bias', 'node_models_dict.PEDESTRIAN.node_modules.PEDESTRIAN/edge_influence_encoder.in_proj_weight', 'node_models_dict.PEDESTRIAN.node_modules.PEDESTRIAN/edge_influence_encoder.in_proj_bias', 'node_models_dict.PEDESTRIAN.node_modules.PEDESTRIAN/edge_influence_encoder.out_proj.weight', 'node_models_dict.PEDESTRIAN.node_modules.PEDESTRIAN/edge_influence_encoder.out_proj.bias', 'node_models_dict.PEDESTRIAN.node_modules.PEDESTRIAN/p_z_x.weight', 'node_models_dict.PEDESTRIAN.node_modules.PEDESTRIAN/p_z_x.bias', 'node_models_dict.PEDESTRIAN.node_modules.PEDESTRIAN/hx_to_z.weight', 'node_models_dict.PEDESTRIAN.node_modules.PEDESTRIAN/hx_to_z.bias', 'node_models_dict.PEDESTRIAN.node_modules.PEDESTRIAN/hxy_to_z.weight', 'node_models_dict.PEDESTRIAN.node_modules.PEDESTRIAN/hxy_to_z.bias', 'node_models_dict.PEDESTRIAN.node_modules.PEDESTRIAN/decoder/state_action.weight', 'node_models_dict.PEDESTRIAN.node_modules.PEDESTRIAN/decoder/state_action.bias', 'node_models_dict.PEDESTRIAN.node_modules.PEDESTRIAN/decoder/rnn.weight_ih_l0', 'node_models_dict.PEDESTRIAN.node_modules.PEDESTRIAN/decoder/rnn.weight_hh_l0', 'node_models_dict.PEDESTRIAN.node_modules.PEDESTRIAN/decoder/rnn.bias_ih_l0', 'node_models_dict.PEDESTRIAN.node_modules.PEDESTRIAN/decoder/rnn.bias_hh_l0', 'node_models_dict.PEDESTRIAN.node_modules.PEDESTRIAN/decoder/rnn_cell.weight_ih', 'node_models_dict.PEDESTRIAN.node_modules.PEDESTRIAN/decoder/rnn_cell.weight_hh', 'node_models_dict.PEDESTRIAN.node_modules.PEDESTRIAN/decoder/rnn_cell.bias_ih', 'node_models_dict.PEDESTRIAN.node_modules.PEDESTRIAN/decoder/rnn_cell.bias_hh', 'node_models_dict.PEDESTRIAN.node_modules.PEDESTRIAN/decoder/initial_h.weight', 'node_models_dict.PEDESTRIAN.node_modules.PEDESTRIAN/decoder/initial_h.bias', 'node_models_dict.PEDESTRIAN.node_modules.PEDESTRIAN/decoder/post_rnn.weight', 'node_models_dict.PEDESTRIAN.node_modules.PEDESTRIAN/decoder/post_rnn.bias', 'node_models_dict.PEDESTRIAN.node_modules.PEDESTRIAN/decoder/proj_to_GMM_log_pis.weight', 'node_models_dict.PEDESTRIAN.node_modules.PEDESTRIAN/decoder/proj_to_GMM_log_pis.bias', 'node_models_dict.PEDESTRIAN.node_modules.PEDESTRIAN/decoder/proj_to_GMM_mus.weight', 'node_models_dict.PEDESTRIAN.node_modules.PEDESTRIAN/decoder/proj_to_GMM_mus.bias', 'node_models_dict.PEDESTRIAN.node_modules.PEDESTRIAN/decoder/proj_to_GMM_log_sigmas.weight', 'node_models_dict.PEDESTRIAN.node_modules.PEDESTRIAN/decoder/proj_to_GMM_log_sigmas.bias', 'node_models_dict.PEDESTRIAN.node_modules.PEDESTRIAN/decoder/proj_to_GMM_corrs.weight', 'node_models_dict.PEDESTRIAN.node_modules.PEDESTRIAN/decoder/proj_to_GMM_corrs.bias', 'node_models_dict.PEDESTRIAN.node_modules.UNKNOWN->PEDESTRIAN/edge_encoder.weight_ih_l0', 'node_models_dict.PEDESTRIAN.node_modules.UNKNOWN->PEDESTRIAN/edge_encoder.weight_hh_l0', 'node_models_dict.PEDESTRIAN.node_modules.UNKNOWN->PEDESTRIAN/edge_encoder.bias_ih_l0', 'node_models_dict.PEDESTRIAN.node_modules.UNKNOWN->PEDESTRIAN/edge_encoder.bias_hh_l0', 'node_models_dict.PEDESTRIAN.node_modules.VEHICLE->PEDESTRIAN/edge_encoder.weight_ih_l0', 'node_models_dict.PEDESTRIAN.node_modules.VEHICLE->PEDESTRIAN/edge_encoder.weight_hh_l0', 'node_models_dict.PEDESTRIAN.node_modules.VEHICLE->PEDESTRIAN/edge_encoder.bias_ih_l0', 'node_models_dict.PEDESTRIAN.node_modules.VEHICLE->PEDESTRIAN/edge_encoder.bias_hh_l0', 'node_models_dict.PEDESTRIAN.node_modules.PEDESTRIAN->PEDESTRIAN/edge_encoder.weight_ih_l0', 'node_models_dict.PEDESTRIAN.node_modules.PEDESTRIAN->PEDESTRIAN/edge_encoder.weight_hh_l0', 'node_models_dict.PEDESTRIAN.node_modules.PEDESTRIAN->PEDESTRIAN/edge_encoder.bias_ih_l0', 'node_models_dict.PEDESTRIAN.node_modules.PEDESTRIAN->PEDESTRIAN/edge_encoder.bias_hh_l0', 'node_models_dict.PEDESTRIAN.node_modules.BICYCLE->PEDESTRIAN/edge_encoder.weight_ih_l0', 'node_models_dict.PEDESTRIAN.node_modules.BICYCLE->PEDESTRIAN/edge_encoder.weight_hh_l0', 'node_models_dict.PEDESTRIAN.node_modules.BICYCLE->PEDESTRIAN/edge_encoder.bias_ih_l0', 'node_models_dict.PEDESTRIAN.node_modules.BICYCLE->PEDESTRIAN/edge_encoder.bias_hh_l0', 'node_models_dict.PEDESTRIAN.node_modules.MOTORCYCLE->PEDESTRIAN/edge_encoder.weight_ih_l0', 'node_models_dict.PEDESTRIAN.node_modules.MOTORCYCLE->PEDESTRIAN/edge_encoder.weight_hh_l0', 'node_models_dict.PEDESTRIAN.node_modules.MOTORCYCLE->PEDESTRIAN/edge_encoder.bias_ih_l0', 'node_models_dict.PEDESTRIAN.node_modules.MOTORCYCLE->PEDESTRIAN/edge_encoder.bias_hh_l0', 'model_registrar.model_dict.PEDESTRIAN/node_history_encoder.weight_ih_l0', 'model_registrar.model_dict.PEDESTRIAN/node_history_encoder.weight_hh_l0', 'model_registrar.model_dict.PEDESTRIAN/node_history_encoder.bias_ih_l0', 'model_registrar.model_dict.PEDESTRIAN/node_history_encoder.bias_hh_l0', 'model_registrar.model_dict.PEDESTRIAN/node_future_encoder.weight_ih_l0', 'model_registrar.model_dict.PEDESTRIAN/node_future_encoder.weight_hh_l0', 'model_registrar.model_dict.PEDESTRIAN/node_future_encoder.bias_ih_l0', 'model_registrar.model_dict.PEDESTRIAN/node_future_encoder.bias_hh_l0', 'model_registrar.model_dict.PEDESTRIAN/node_future_encoder.weight_ih_l0_reverse', 'model_registrar.model_dict.PEDESTRIAN/node_future_encoder.weight_hh_l0_reverse', 'model_registrar.model_dict.PEDESTRIAN/node_future_encoder.bias_ih_l0_reverse', 'model_registrar.model_dict.PEDESTRIAN/node_future_encoder.bias_hh_l0_reverse', 'model_registrar.model_dict.PEDESTRIAN/node_future_encoder/initial_h.weight', 'model_registrar.model_dict.PEDESTRIAN/node_future_encoder/initial_h.bias', 'model_registrar.model_dict.PEDESTRIAN/node_future_encoder/initial_c.weight', 'model_registrar.model_dict.PEDESTRIAN/node_future_encoder/initial_c.bias', 'model_registrar.model_dict.PEDESTRIAN/edge_influence_encoder.in_proj_weight', 'model_registrar.model_dict.PEDESTRIAN/edge_influence_encoder.in_proj_bias', 'model_registrar.model_dict.PEDESTRIAN/edge_influence_encoder.out_proj.weight', 'model_registrar.model_dict.PEDESTRIAN/edge_influence_encoder.out_proj.bias', 'model_registrar.model_dict.PEDESTRIAN/p_z_x.weight', 'model_registrar.model_dict.PEDESTRIAN/p_z_x.bias', 'model_registrar.model_dict.PEDESTRIAN/hx_to_z.weight', 'model_registrar.model_dict.PEDESTRIAN/hx_to_z.bias', 'model_registrar.model_dict.PEDESTRIAN/hxy_to_z.weight', 'model_registrar.model_dict.PEDESTRIAN/hxy_to_z.bias', 'model_registrar.model_dict.PEDESTRIAN/decoder/state_action.weight', 'model_registrar.model_dict.PEDESTRIAN/decoder/state_action.bias', 'model_registrar.model_dict.PEDESTRIAN/decoder/rnn.weight_ih_l0', 'model_registrar.model_dict.PEDESTRIAN/decoder/rnn.weight_hh_l0', 'model_registrar.model_dict.PEDESTRIAN/decoder/rnn.bias_ih_l0', 'model_registrar.model_dict.PEDESTRIAN/decoder/rnn.bias_hh_l0', 'model_registrar.model_dict.PEDESTRIAN/decoder/rnn_cell.weight_ih', 'model_registrar.model_dict.PEDESTRIAN/decoder/rnn_cell.weight_hh', 'model_registrar.model_dict.PEDESTRIAN/decoder/rnn_cell.bias_ih', 'model_registrar.model_dict.PEDESTRIAN/decoder/rnn_cell.bias_hh', 'model_registrar.model_dict.PEDESTRIAN/decoder/initial_h.weight', 'model_registrar.model_dict.PEDESTRIAN/decoder/initial_h.bias', 'model_registrar.model_dict.PEDESTRIAN/decoder/post_rnn.weight', 'model_registrar.model_dict.PEDESTRIAN/decoder/post_rnn.bias', 'model_registrar.model_dict.PEDESTRIAN/decoder/proj_to_GMM_log_pis.weight', 'model_registrar.model_dict.PEDESTRIAN/decoder/proj_to_GMM_log_pis.bias', 'model_registrar.model_dict.PEDESTRIAN/decoder/proj_to_GMM_mus.weight', 'model_registrar.model_dict.PEDESTRIAN/decoder/proj_to_GMM_mus.bias', 'model_registrar.model_dict.PEDESTRIAN/decoder/proj_to_GMM_log_sigmas.weight', 'model_registrar.model_dict.PEDESTRIAN/decoder/proj_to_GMM_log_sigmas.bias', 'model_registrar.model_dict.PEDESTRIAN/decoder/proj_to_GMM_corrs.weight', 'model_registrar.model_dict.PEDESTRIAN/decoder/proj_to_GMM_corrs.bias', 'model_registrar.model_dict.UNKNOWN->PEDESTRIAN/edge_encoder.weight_ih_l0', 'model_registrar.model_dict.UNKNOWN->PEDESTRIAN/edge_encoder.weight_hh_l0', 'model_registrar.model_dict.UNKNOWN->PEDESTRIAN/edge_encoder.bias_ih_l0', 'model_registrar.model_dict.UNKNOWN->PEDESTRIAN/edge_encoder.bias_hh_l0', 'model_registrar.model_dict.VEHICLE->PEDESTRIAN/edge_encoder.weight_ih_l0', 'model_registrar.model_dict.VEHICLE->PEDESTRIAN/edge_encoder.weight_hh_l0', 'model_registrar.model_dict.VEHICLE->PEDESTRIAN/edge_encoder.bias_ih_l0', 'model_registrar.model_dict.VEHICLE->PEDESTRIAN/edge_encoder.bias_hh_l0', 'model_registrar.model_dict.PEDESTRIAN->PEDESTRIAN/edge_encoder.weight_ih_l0', 'model_registrar.model_dict.PEDESTRIAN->PEDESTRIAN/edge_encoder.weight_hh_l0', 'model_registrar.model_dict.PEDESTRIAN->PEDESTRIAN/edge_encoder.bias_ih_l0', 'model_registrar.model_dict.PEDESTRIAN->PEDESTRIAN/edge_encoder.bias_hh_l0', 'model_registrar.model_dict.BICYCLE->PEDESTRIAN/edge_encoder.weight_ih_l0', 'model_registrar.model_dict.BICYCLE->PEDESTRIAN/edge_encoder.weight_hh_l0', 'model_registrar.model_dict.BICYCLE->PEDESTRIAN/edge_encoder.bias_ih_l0', 'model_registrar.model_dict.BICYCLE->PEDESTRIAN/edge_encoder.bias_hh_l0', 'model_registrar.model_dict.MOTORCYCLE->PEDESTRIAN/edge_encoder.weight_ih_l0', 'model_registrar.model_dict.MOTORCYCLE->PEDESTRIAN/edge_encoder.weight_hh_l0', 'model_registrar.model_dict.MOTORCYCLE->PEDESTRIAN/edge_encoder.bias_ih_l0', 'model_registrar.model_dict.MOTORCYCLE->PEDESTRIAN/edge_encoder.bias_hh_l0'])"
      ]
     },
     "execution_count": 8,
     "metadata": {},
     "output_type": "execute_result"
    }
   ],
   "source": [
    "# initialize online trajectron\n",
    "\n",
    "model_registrar = ModelRegistrar(model_dir, arg_device)\n",
    "\n",
    "trajectron = OnlineTrajectron(model_registrar,\n",
    "                                hyperparams,\n",
    "                                arg_device)\n",
    "\n",
    "agent_types = [AgentType.PEDESTRIAN]\n",
    "edge_types = [(AgentType.PEDESTRIAN, AgentType.PEDESTRIAN)]\n",
    "# print(edge_types)\n",
    "# print(agent_type)\n",
    "# print(edge_types[0])\n",
    "\n",
    "epoch = 5\n",
    "model_path = pathlib.Path(model_dir) / f'model_registrar-{epoch}.pt'\n",
    "checkpoint = torch.load(model_path, map_location=arg_device)\n",
    "trajectron.load_state_dict(checkpoint[\"model_state_dict\"], strict=False)\n",
    "\n"
   ]
  },
  {
   "cell_type": "code",
   "execution_count": 9,
   "metadata": {},
   "outputs": [],
   "source": [
    "trajectron.set_environment(agent_types, edge_types)"
   ]
  },
  {
   "cell_type": "code",
   "execution_count": null,
   "metadata": {},
   "outputs": [
    {
     "name": "stdout",
     "output_type": "stream",
     "text": [
      "Timestep: 2\n",
      "Agent: 1\n",
      "Agent: 2\n"
     ]
    },
    {
     "ename": "AttributeError",
     "evalue": "'str' object has no attribute 'get'",
     "output_type": "error",
     "traceback": [
      "\u001b[0;31m---------------------------------------------------------------------------\u001b[0m",
      "\u001b[0;31mAttributeError\u001b[0m                            Traceback (most recent call last)",
      "Cell \u001b[0;32mIn[13], line 44\u001b[0m\n\u001b[1;32m     40\u001b[0m fig, ax \u001b[38;5;241m=\u001b[39m plt\u001b[38;5;241m.\u001b[39msubplots()\n\u001b[1;32m     41\u001b[0m vis\u001b[38;5;241m.\u001b[39mvisualize_distribution(ax,\n\u001b[1;32m     42\u001b[0m                         dists,\n\u001b[1;32m     43\u001b[0m                         batch_idx\u001b[38;5;241m=\u001b[39m\u001b[38;5;241m0\u001b[39m)\n\u001b[0;32m---> 44\u001b[0m \u001b[43mvis\u001b[49m\u001b[38;5;241;43m.\u001b[39;49m\u001b[43mvisualize_prediction\u001b[49m\u001b[43m(\u001b[49m\u001b[43max\u001b[49m\u001b[43m,\u001b[49m\n\u001b[1;32m     45\u001b[0m \u001b[43m                        \u001b[49m\u001b[43m{\u001b[49m\u001b[43mt\u001b[49m\u001b[43m:\u001b[49m\u001b[43m \u001b[49m\u001b[43mpreds\u001b[49m\u001b[43m}\u001b[49m\u001b[43m,\u001b[49m\n\u001b[1;32m     46\u001b[0m \u001b[43m                        \u001b[49m\u001b[43msim_scene\u001b[49m\u001b[38;5;241;43m.\u001b[39;49m\u001b[43mscene\u001b[49m\u001b[38;5;241;43m.\u001b[39;49m\u001b[43mdt\u001b[49m\u001b[43m,\u001b[49m\n\u001b[1;32m     47\u001b[0m \u001b[43m                        \u001b[49m\u001b[43mhyperparams\u001b[49m\u001b[43m[\u001b[49m\u001b[38;5;124;43m'\u001b[39;49m\u001b[38;5;124;43mmaximum_history_length\u001b[39;49m\u001b[38;5;124;43m'\u001b[39;49m\u001b[43m]\u001b[49m\u001b[43m,\u001b[49m\n\u001b[1;32m     48\u001b[0m \u001b[43m                        \u001b[49m\u001b[38;5;241;43m6\u001b[39;49m\u001b[43m)\u001b[49m\n\u001b[1;32m     50\u001b[0m fig\u001b[38;5;241m.\u001b[39msavefig(os\u001b[38;5;241m.\u001b[39mpath\u001b[38;5;241m.\u001b[39mjoin(output_save_dir, \u001b[38;5;124mf\u001b[39m\u001b[38;5;124m'\u001b[39m\u001b[38;5;124mpred_\u001b[39m\u001b[38;5;132;01m{\u001b[39;00mt\u001b[38;5;132;01m}\u001b[39;00m\u001b[38;5;124m.pdf\u001b[39m\u001b[38;5;124m'\u001b[39m), dpi\u001b[38;5;241m=\u001b[39m\u001b[38;5;241m300\u001b[39m)\n\u001b[1;32m     51\u001b[0m plt\u001b[38;5;241m.\u001b[39mclose(fig)\n",
      "File \u001b[0;32m~/Projects/trajectron/adaptive-trajectron-plus-plus/src/trajectron/visualization/visualization.py:106\u001b[0m, in \u001b[0;36mvisualize_prediction\u001b[0;34m(ax, prediction_output_dict, dt, max_hl, ph, robot_node, map, **kwargs)\u001b[0m\n\u001b[1;32m    102\u001b[0m \u001b[38;5;28;01mdef\u001b[39;00m \u001b[38;5;21mvisualize_prediction\u001b[39m(\n\u001b[1;32m    103\u001b[0m     ax, prediction_output_dict, dt, max_hl, ph, robot_node\u001b[38;5;241m=\u001b[39m\u001b[38;5;28;01mNone\u001b[39;00m, \u001b[38;5;28mmap\u001b[39m\u001b[38;5;241m=\u001b[39m\u001b[38;5;28;01mNone\u001b[39;00m, \u001b[38;5;241m*\u001b[39m\u001b[38;5;241m*\u001b[39mkwargs\n\u001b[1;32m    104\u001b[0m ):\n\u001b[0;32m--> 106\u001b[0m     prediction_dict, histories_dict, futures_dict \u001b[38;5;241m=\u001b[39m \u001b[43mprediction_output_to_trajectories\u001b[49m\u001b[43m(\u001b[49m\n\u001b[1;32m    107\u001b[0m \u001b[43m        \u001b[49m\u001b[43mprediction_output_dict\u001b[49m\u001b[43m,\u001b[49m\u001b[43m \u001b[49m\u001b[43mdt\u001b[49m\u001b[43m,\u001b[49m\u001b[43m \u001b[49m\u001b[43mmax_hl\u001b[49m\u001b[43m,\u001b[49m\u001b[43m \u001b[49m\u001b[43mph\u001b[49m\u001b[43m,\u001b[49m\u001b[43m \u001b[49m\u001b[38;5;28;43mmap\u001b[39;49m\u001b[38;5;241;43m=\u001b[39;49m\u001b[38;5;28;43mmap\u001b[39;49m\n\u001b[1;32m    108\u001b[0m \u001b[43m    \u001b[49m\u001b[43m)\u001b[49m\n\u001b[1;32m    110\u001b[0m     \u001b[38;5;28;01massert\u001b[39;00m \u001b[38;5;28mlen\u001b[39m(prediction_dict\u001b[38;5;241m.\u001b[39mkeys()) \u001b[38;5;241m<\u001b[39m\u001b[38;5;241m=\u001b[39m \u001b[38;5;241m1\u001b[39m\n\u001b[1;32m    111\u001b[0m     \u001b[38;5;28;01mif\u001b[39;00m \u001b[38;5;28mlen\u001b[39m(prediction_dict\u001b[38;5;241m.\u001b[39mkeys()) \u001b[38;5;241m==\u001b[39m \u001b[38;5;241m0\u001b[39m:\n",
      "File \u001b[0;32m~/Projects/trajectron/adaptive-trajectron-plus-plus/src/trajectron/utils/trajectory_utils.py:38\u001b[0m, in \u001b[0;36mprediction_output_to_trajectories\u001b[0;34m(prediction_output_dict, dt, max_h, ph, map, prune_ph_to_future)\u001b[0m\n\u001b[1;32m     35\u001b[0m predictions_output \u001b[38;5;241m=\u001b[39m prediction_output_dict[t][node]\n\u001b[1;32m     36\u001b[0m position_state \u001b[38;5;241m=\u001b[39m {\u001b[38;5;124m\"\u001b[39m\u001b[38;5;124mposition\u001b[39m\u001b[38;5;124m\"\u001b[39m: [\u001b[38;5;124m\"\u001b[39m\u001b[38;5;124mx\u001b[39m\u001b[38;5;124m\"\u001b[39m, \u001b[38;5;124m\"\u001b[39m\u001b[38;5;124my\u001b[39m\u001b[38;5;124m\"\u001b[39m]}\n\u001b[0;32m---> 38\u001b[0m history \u001b[38;5;241m=\u001b[39m \u001b[43mnode\u001b[49m\u001b[38;5;241;43m.\u001b[39;49m\u001b[43mget\u001b[49m(\n\u001b[1;32m     39\u001b[0m     np\u001b[38;5;241m.\u001b[39marray([t \u001b[38;5;241m-\u001b[39m max_h, t]), position_state\n\u001b[1;32m     40\u001b[0m )  \u001b[38;5;66;03m# History includes current pos\u001b[39;00m\n\u001b[1;32m     41\u001b[0m history \u001b[38;5;241m=\u001b[39m history[\u001b[38;5;241m~\u001b[39mnp\u001b[38;5;241m.\u001b[39misnan(history\u001b[38;5;241m.\u001b[39msum(axis\u001b[38;5;241m=\u001b[39m\u001b[38;5;241m1\u001b[39m))]\n\u001b[1;32m     43\u001b[0m future \u001b[38;5;241m=\u001b[39m node\u001b[38;5;241m.\u001b[39mget(np\u001b[38;5;241m.\u001b[39marray([t \u001b[38;5;241m+\u001b[39m \u001b[38;5;241m1\u001b[39m, t \u001b[38;5;241m+\u001b[39m ph]), position_state)\n",
      "\u001b[0;31mAttributeError\u001b[0m: 'str' object has no attribute 'get'"
     ]
    },
    {
     "data": {
      "image/png": "[encoded data removed]",
      "text/plain": [
       "<Figure size 640x480 with 1 Axes>"
      ]
     },
     "metadata": {},
     "output_type": "display_data"
    }
   ],
   "source": [
    "hyperparams[\"maximum_history_length\"] = int((hyperparams[\"history_sec\"]/sim_scene.scene.dt) + 1)\n",
    "for t in range(init_timestep+1, sim_scene.scene.length_timesteps):\n",
    "    print(f\"Timestep: {t}\")\n",
    "\n",
    "    try:\n",
    "        sim_scene: SimulationScene = SimulationScene(\n",
    "        env_name=sim_env_name,\n",
    "        scene_name=scene_name,\n",
    "        scene=desired_scene,\n",
    "        dataset=dataset,\n",
    "        init_timestep=t,\n",
    "        freeze_agents=True,\n",
    "        )\n",
    "        obs: AgentBatch = sim_scene.reset()\n",
    "\n",
    "        start = time.time()\n",
    "        dists, preds = trajectron.incremental_forward(\n",
    "            obs=obs,\n",
    "            maps=None,\n",
    "            prediction_horizon=6,\n",
    "            num_samples=1,\n",
    "            full_dist=True\n",
    "        )\n",
    "        end = time.time()\n",
    "\n",
    "        detailed_preds_dict = dict()\n",
    "        for name in obs.agent_name:\n",
    "            if name in preds:\n",
    "                detailed_preds_dict[name] = preds[name]\n",
    "    except ValueError as e:\n",
    "        if str(e)==f\"Initial timestep {t} contains no agents after filtering. Please choose another initial timestep.\":\n",
    "            obs = None\n",
    "        else:\n",
    "            raise\n",
    "\n",
    "    # print(\"t=%d: took %.2f s (= %.2f Hz) w/ %d nodes\" % (t, end - start,\n",
    "    #                                                     1. / (end - start), len(obs.agent_name)))\n",
    "                                                        # trajectron.scene_graph.get_num_edges()))\n",
    "\n",
    "    fig, ax = plt.subplots()\n",
    "    vis.visualize_distribution(ax,\n",
    "                            dists,\n",
    "                            batch_idx=0)\n",
    "    vis.visualize_prediction(ax,\n",
    "                            {t: preds},\n",
    "                            sim_scene.scene.dt,\n",
    "                            max_h=hyperparams['maximum_history_length'],\n",
    "                            ph=6)\n",
    "    \n",
    "    fig.savefig(os.path.join(output_save_dir, f'pred_{t}.pdf'), dpi=300)\n",
    "    plt.close(fig)"
   ]
  }
 ],
 "metadata": {
  "kernelspec": {
   "display_name": "adaptive-trajectron",
   "language": "python",
   "name": "python3"
  },
  "language_info": {
   "codemirror_mode": {
    "name": "ipython",
    "version": 3
   },
   "file_extension": ".py",
   "mimetype": "text/x-python",
   "name": "python",
   "nbconvert_exporter": "python",
   "pygments_lexer": "ipython3",
   "version": "3.9.20"
  }
 },
 "nbformat": 4,
 "nbformat_minor": 2
}
